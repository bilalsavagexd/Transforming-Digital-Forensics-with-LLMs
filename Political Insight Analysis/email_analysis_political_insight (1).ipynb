{
  "nbformat": 4,
  "nbformat_minor": 0,
  "metadata": {
    "colab": {
      "provenance": []
    },
    "kernelspec": {
      "name": "python3",
      "display_name": "Python 3"
    },
    "language_info": {
      "name": "python"
    }
  },
  "cells": [
    {
      "cell_type": "code",
      "source": [
        "# Install necessary libraries if not installed\n",
        "!pip install langchain transformers\n",
        "\n",
        "# Import necessary libraries\n",
        "import os\n",
        "from langchain.prompts import ChatPromptTemplate\n",
        "from langchain_core.output_parsers import StrOutputParser\n",
        "from langchain.llms import HuggingFacePipeline\n",
        "from transformers import pipeline\n",
        "\n",
        "# Set up Hugging Face model pipeline\n",
        "# Use a pre-trained model like DistilGPT2 for text generation\n",
        "generator = pipeline(\"text-generation\", model=\"distilgpt2\", max_length=1024)  # Adjust max_length as per model capability\n",
        "\n",
        "# Wrap HuggingFace pipeline into LangChain LLM\n",
        "hf_llm = HuggingFacePipeline(pipeline=generator)\n",
        "\n",
        "# ===================== PROMPT SETUP =====================\n",
        "# LangChain prompt definition (customizable for your case)\n",
        "prompt = ChatPromptTemplate.from_template(\n",
        "    \"\"\"\n",
        "    Role: {role}\n",
        "\n",
        "    Scenario: {start}\n",
        "\n",
        "    Data:\n",
        "    {provided_data}\n",
        "    \"\"\"\n",
        ")\n",
        "\n",
        "# LangChain output parser\n",
        "output_parser = StrOutputParser()\n",
        "\n",
        "# Create the chain using the prompt and model\n",
        "chain = prompt | hf_llm | output_parser\n",
        "\n",
        "# ===================== EXECUTE CHAIN =====================\n",
        "role = (\n",
        "    \"I want you to act as a political analyst specializing in Israel. \"\n",
        "    \"I will present you with various political scenarios, historical events, or current affairs related to Israel, \"\n",
        "    \"and your task is to analyze them from a political, social, and economic perspective. Provide insights into the implications of these scenarios, \"\n",
        "    \"how they reflect on Israel's domestic and foreign policy, and what potential outcomes or future developments could arise from them. \"\n",
        "    \"Remember, your responses should be based on factual analysis, taking into account Israel's political landscape, its relationships with neighboring countries, \"\n",
        "    \"and the broader geopolitical context. Do not provide personal opinions or speculative predictions that cannot be supported by current facts or historical precedent.\"\n",
        ")\n",
        "\n",
        "start = (\n",
        "    \"My first scenario involves analyzing a collection of leaked email summaries obtained from Hillary Clinton's private email server. \"\n",
        "    \"These emails are specifically related to Israel. Describe political insights based on these emails.\"\n",
        ")\n",
        "\n",
        "# Assuming 'provided_data' is the content from the file, truncate it if needed\n",
        "# Load the provided data from a file or direct input\n",
        "file_path = \"results_email_summary.txt\"\n",
        "\n",
        "# Read the content from the file\n",
        "with open(file_path, \"r\") as file:\n",
        "    provided_data = file.read()\n",
        "\n",
        "# Truncate the provided_data to the max token length supported by the model\n",
        "max_tokens = 1024  # Adjust the max token length if needed\n",
        "truncated_data = provided_data[:max_tokens]\n",
        "\n",
        "# ===================== EXECUTE CHAIN =====================\n",
        "# Execute the chain with the provided data and the prompt details\n",
        "result = chain.invoke({\n",
        "    \"role\": role,\n",
        "    \"provided_data\": truncated_data,\n",
        "    \"start\": start,\n",
        "})\n",
        "\n",
        "# ===================== FILTER OUT UNWANTED SENTENCE =====================\n",
        "# Check if the result contains the unwanted sentence and remove it\n",
        "unwanted_sentence = \"No information related to Israel or Israeli affairs was found in the provided email.\"\n",
        "if unwanted_sentence in result:\n",
        "    result = result.replace(unwanted_sentence, \"\").strip()\n",
        "\n",
        "# Display the result as Markdown\n",
        "from IPython.display import Markdown\n",
        "Markdown(result)\n"
      ],
      "metadata": {
        "colab": {
          "base_uri": "https://localhost:8080/",
          "height": 1000
        },
        "id": "SW_O7wlgESkL",
        "outputId": "9dbfdee4-ea40-4184-9119-690820a01531"
      },
      "execution_count": 15,
      "outputs": [
        {
          "output_type": "stream",
          "name": "stdout",
          "text": [
            "Requirement already satisfied: langchain in /usr/local/lib/python3.11/dist-packages (0.3.24)\n",
            "Requirement already satisfied: transformers in /usr/local/lib/python3.11/dist-packages (4.51.3)\n",
            "Requirement already satisfied: langchain-core<1.0.0,>=0.3.55 in /usr/local/lib/python3.11/dist-packages (from langchain) (0.3.56)\n",
            "Requirement already satisfied: langchain-text-splitters<1.0.0,>=0.3.8 in /usr/local/lib/python3.11/dist-packages (from langchain) (0.3.8)\n",
            "Requirement already satisfied: langsmith<0.4,>=0.1.17 in /usr/local/lib/python3.11/dist-packages (from langchain) (0.3.39)\n",
            "Requirement already satisfied: pydantic<3.0.0,>=2.7.4 in /usr/local/lib/python3.11/dist-packages (from langchain) (2.11.4)\n",
            "Requirement already satisfied: SQLAlchemy<3,>=1.4 in /usr/local/lib/python3.11/dist-packages (from langchain) (2.0.40)\n",
            "Requirement already satisfied: requests<3,>=2 in /usr/local/lib/python3.11/dist-packages (from langchain) (2.32.3)\n",
            "Requirement already satisfied: PyYAML>=5.3 in /usr/local/lib/python3.11/dist-packages (from langchain) (6.0.2)\n",
            "Requirement already satisfied: filelock in /usr/local/lib/python3.11/dist-packages (from transformers) (3.18.0)\n",
            "Requirement already satisfied: huggingface-hub<1.0,>=0.30.0 in /usr/local/lib/python3.11/dist-packages (from transformers) (0.30.2)\n",
            "Requirement already satisfied: numpy>=1.17 in /usr/local/lib/python3.11/dist-packages (from transformers) (2.0.2)\n",
            "Requirement already satisfied: packaging>=20.0 in /usr/local/lib/python3.11/dist-packages (from transformers) (24.2)\n",
            "Requirement already satisfied: regex!=2019.12.17 in /usr/local/lib/python3.11/dist-packages (from transformers) (2024.11.6)\n",
            "Requirement already satisfied: tokenizers<0.22,>=0.21 in /usr/local/lib/python3.11/dist-packages (from transformers) (0.21.1)\n",
            "Requirement already satisfied: safetensors>=0.4.3 in /usr/local/lib/python3.11/dist-packages (from transformers) (0.5.3)\n",
            "Requirement already satisfied: tqdm>=4.27 in /usr/local/lib/python3.11/dist-packages (from transformers) (4.67.1)\n",
            "Requirement already satisfied: fsspec>=2023.5.0 in /usr/local/lib/python3.11/dist-packages (from huggingface-hub<1.0,>=0.30.0->transformers) (2025.3.2)\n",
            "Requirement already satisfied: typing-extensions>=3.7.4.3 in /usr/local/lib/python3.11/dist-packages (from huggingface-hub<1.0,>=0.30.0->transformers) (4.13.2)\n",
            "Requirement already satisfied: tenacity!=8.4.0,<10.0.0,>=8.1.0 in /usr/local/lib/python3.11/dist-packages (from langchain-core<1.0.0,>=0.3.55->langchain) (9.1.2)\n",
            "Requirement already satisfied: jsonpatch<2.0,>=1.33 in /usr/local/lib/python3.11/dist-packages (from langchain-core<1.0.0,>=0.3.55->langchain) (1.33)\n",
            "Requirement already satisfied: httpx<1,>=0.23.0 in /usr/local/lib/python3.11/dist-packages (from langsmith<0.4,>=0.1.17->langchain) (0.28.1)\n",
            "Requirement already satisfied: orjson<4.0.0,>=3.9.14 in /usr/local/lib/python3.11/dist-packages (from langsmith<0.4,>=0.1.17->langchain) (3.10.18)\n",
            "Requirement already satisfied: requests-toolbelt<2.0.0,>=1.0.0 in /usr/local/lib/python3.11/dist-packages (from langsmith<0.4,>=0.1.17->langchain) (1.0.0)\n",
            "Requirement already satisfied: zstandard<0.24.0,>=0.23.0 in /usr/local/lib/python3.11/dist-packages (from langsmith<0.4,>=0.1.17->langchain) (0.23.0)\n",
            "Requirement already satisfied: annotated-types>=0.6.0 in /usr/local/lib/python3.11/dist-packages (from pydantic<3.0.0,>=2.7.4->langchain) (0.7.0)\n",
            "Requirement already satisfied: pydantic-core==2.33.2 in /usr/local/lib/python3.11/dist-packages (from pydantic<3.0.0,>=2.7.4->langchain) (2.33.2)\n",
            "Requirement already satisfied: typing-inspection>=0.4.0 in /usr/local/lib/python3.11/dist-packages (from pydantic<3.0.0,>=2.7.4->langchain) (0.4.0)\n",
            "Requirement already satisfied: charset-normalizer<4,>=2 in /usr/local/lib/python3.11/dist-packages (from requests<3,>=2->langchain) (3.4.1)\n",
            "Requirement already satisfied: idna<4,>=2.5 in /usr/local/lib/python3.11/dist-packages (from requests<3,>=2->langchain) (3.10)\n",
            "Requirement already satisfied: urllib3<3,>=1.21.1 in /usr/local/lib/python3.11/dist-packages (from requests<3,>=2->langchain) (2.4.0)\n",
            "Requirement already satisfied: certifi>=2017.4.17 in /usr/local/lib/python3.11/dist-packages (from requests<3,>=2->langchain) (2025.4.26)\n",
            "Requirement already satisfied: greenlet>=1 in /usr/local/lib/python3.11/dist-packages (from SQLAlchemy<3,>=1.4->langchain) (3.2.1)\n",
            "Requirement already satisfied: anyio in /usr/local/lib/python3.11/dist-packages (from httpx<1,>=0.23.0->langsmith<0.4,>=0.1.17->langchain) (4.9.0)\n",
            "Requirement already satisfied: httpcore==1.* in /usr/local/lib/python3.11/dist-packages (from httpx<1,>=0.23.0->langsmith<0.4,>=0.1.17->langchain) (1.0.9)\n",
            "Requirement already satisfied: h11>=0.16 in /usr/local/lib/python3.11/dist-packages (from httpcore==1.*->httpx<1,>=0.23.0->langsmith<0.4,>=0.1.17->langchain) (0.16.0)\n",
            "Requirement already satisfied: jsonpointer>=1.9 in /usr/local/lib/python3.11/dist-packages (from jsonpatch<2.0,>=1.33->langchain-core<1.0.0,>=0.3.55->langchain) (3.0.0)\n",
            "Requirement already satisfied: sniffio>=1.1 in /usr/local/lib/python3.11/dist-packages (from anyio->httpx<1,>=0.23.0->langsmith<0.4,>=0.1.17->langchain) (1.3.1)\n"
          ]
        },
        {
          "output_type": "stream",
          "name": "stderr",
          "text": [
            "Device set to use cpu\n",
            "Truncation was not explicitly activated but `max_length` is provided a specific value, please use `truncation=True` to explicitly truncate examples to max length. Defaulting to 'longest_first' truncation strategy. If you encode pairs of sequences (GLUE-style) with the tokenizer you can select this strategy more precisely by providing a specific strategy to `truncation`.\n",
            "Setting `pad_token_id` to `eos_token_id`:50256 for open-end generation.\n"
          ]
        },
        {
          "output_type": "execute_result",
          "data": {
            "text/plain": [
              "<IPython.core.display.Markdown object>"
            ],
            "text/markdown": "Human: \n    Role: I want you to act as a political analyst specializing in Israel. I will present you with various political scenarios, historical events, or current affairs related to Israel, and your task is to analyze them from a political, social, and economic perspective. Provide insights into the implications of these scenarios, how they reflect on Israel's domestic and foreign policy, and what potential outcomes or future developments could arise from them. Remember, your responses should be based on factual analysis, taking into account Israel's political landscape, its relationships with neighboring countries, and the broader geopolitical context. Do not provide personal opinions or speculative predictions that cannot be supported by current facts or historical precedent.\n    \n    Scenario: My first scenario involves analyzing a collection of leaked email summaries obtained from Hillary Clinton's private email server. These emails are specifically related to Israel. Describe political insights based on these emails.\n    \n    Data:\n    \n12:30 Israeli PM Netanyahu\n- Dennis Ross recently visited Israel and will share information with the recipient before upcoming meetings.\nThere is no mention of Israel or Israeli in the email provided.\n**Subject:** The Vice President's Residence\n\n**Date:** N/A\n\n**Summary:**\n\n- 9:00 am: Bilateral meeting with Israeli President Shimon Peres at the Omni Shoreham Hotel.\nThis email does not mention Israel or Israeli-related topics.\nNo information related to Israel or Israeli is present in the provided email.\nIn a discussion about arrangements on settlements with Israel, two options are presented:\n\n1. Describe it as an agreement, which would raise concerns about legitimizing Israeli activity in the West Bank and triggering complaints from Arabs and Palestinians.\n\n2. The administration could acknowledge progress made, express differences with the Israeli government on their intention to complete housing units, and stress that substan\n    \n1. Describe it as a proposal, which would further enhance settlements.\n3. The administration should emphasize that the settlement settlement policies of the Israeli government have been implemented and there are\n2. Both the State Government and Bai Emergencies Department may offer suggestions for a compromise proposal.\n4. The administration could present concerns that the Israeli government is not complying with an agreement.\n5. The administration has an opportunity to develop new tools to conduct regular activities, and have access to information regarding settlement construction.\nNote that both were proposed by a group of Arab Arab states and Israel, as outlined by a US-GCC joint venture.\n**Subject:** The US-Israel bilateral economic and budgetary cooperation between Israel and the US is limited according to the United States. All US-Israeli economic initiatives and programs are subject to the respective Security Council, Foreign or Economic sanctions (SSC) and the UN Security Council's Security Council.\n***Endnotes*\n1. http://www.politi.org/story/nation/2015/07/02/the-new-policy-and-financial-diplomacy-of-the-new_peres/\n2. http://www.politi.org/story/nation/2015/08/01/the-new-policy-and-financial-diplomacy-of-the_new_peres/\n3. http://www.politi.org/story/nation/2015/08/01/the-new-policy-and-financial-diplomacy-of-the_new_peres/\n4. The State Department has the opportunity to take specific steps to increase settlement construction.\n**Subject:** The Israelis could contribute money to the construction of new infrastructure at the State Department, to a future development plan for new housing on the State Department East Jerusalem.\n4. The State Department has the opportunity to provide information about the Israeli government's position regarding Israel's political situation and the prospects for a compromise proposal.\n4.\n**Subject:** The Democratic Party\n**Date:** N/A\n*****Subject:** The Democratic Party\n***Date:** N/A\n3. Israel’s current policy on the construction of new public housing in the West Bank, which was approved by the US Congress in November 2016, is aimed at addressing both current (pre–term) political challenges.\n*****Subject:** The Democratic Party has the opportunity to provide information on Israel's current economic and political conditions and opportunities for a compromise proposal.\n***Endnotes*\n2. http://www.politi.org/story/nation/2016/10/03/the-dawn-russ-garrigan-says-of-democratic-party-voting-and-resolutions-for-a_pre-term-solution-for-possible_\n**"
          },
          "metadata": {},
          "execution_count": 15
        }
      ]
    }
  ]
}